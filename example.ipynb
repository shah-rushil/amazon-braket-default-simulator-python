{
 "cells": [
  {
   "cell_type": "markdown",
   "id": "ec07b0ad",
   "metadata": {
    "editable": true,
    "slideshow": {
     "slide_type": "slide"
    },
    "tags": []
   },
   "source": [
    "# hello"
   ]
  },
  {
   "cell_type": "code",
   "execution_count": 1,
   "id": "a017ec2a",
   "metadata": {
    "editable": true,
    "slideshow": {
     "slide_type": "slide"
    },
    "tags": []
   },
   "outputs": [
    {
     "name": "stdout",
     "output_type": "stream",
     "text": [
      "GateModelQuantumTaskResult(task_metadata=TaskMetadata(braketSchemaHeader=BraketSchemaHeader(name='braket.task_result.task_metadata', version='1'), id='6674d1d9-62b3-43a8-ae93-05045ead1185', shots=1000, deviceId='braket_sv_branched_python', deviceParameters=None, createdAt=None, endedAt=None, status=None, failureReason=None), additional_metadata=AdditionalMetadata(action=Program(braketSchemaHeader=BraketSchemaHeader(name='braket.ir.openqasm.program', version='1'), source='\\n        qubit[2] q;\\n        bit[2] b;\\n\\n        h q[0];\\n        b[0] = measure q[0];\\n        if (b[0] == 1){\\n            x q[1];\\n        }\\n        ', inputs={'a_in': 3, 'b_in': 7}), dwaveMetadata=None, ionqMetadata=None, rigettiMetadata=None, oqcMetadata=None, xanaduMetadata=None, queraMetadata=None, simulatorMetadata=None, iqmMetadata=None), result_types=[], values=[], measurements=array([[1, 1],\n",
      "       [1, 1],\n",
      "       [1, 1],\n",
      "       ...,\n",
      "       [0, 0],\n",
      "       [0, 0],\n",
      "       [0, 0]], shape=(1000, 2)), measured_qubits=[0, 1], measurement_counts=Counter({'11': 500, '00': 500}), measurement_probabilities={'11': 0.5, '00': 0.5}, measurements_copied_from_device=True, measurement_counts_copied_from_device=False, measurement_probabilities_copied_from_device=False, _result_types_indices={})\n"
     ]
    }
   ],
   "source": [
    "import numpy as np\n",
    "from collections import Counter\n",
    "\n",
    "from braket.ir.openqasm import Program as OpenQASMProgram\n",
    "\n",
    "from braket.circuits import Circuit, circuit, noises\n",
    "from braket.devices import LocalSimulator\n",
    "\n",
    "\n",
    "simulator = LocalSimulator(\"braket_sv_branched_python\")\n",
    "\n",
    "qasm_source = \"\"\"\n",
    "        qubit[2] q;\n",
    "        bit[2] b;\n",
    "\n",
    "        h q[0];\n",
    "        b[0] = measure q[0];\n",
    "        if (b[0] == 1){\n",
    "            x q[1];\n",
    "        }\n",
    "        \"\"\"\n",
    "\n",
    "program = OpenQASMProgram(source=qasm_source, inputs={\"a_in\": 3, \"b_in\": 7})\n",
    "\n",
    "result = simulator.run(program, shots=1000)\n",
    "\n",
    "print(result.result())"
   ]
  },
  {
   "cell_type": "code",
   "execution_count": null,
   "id": "8f01f907-a198-4701-a127-a78460536319",
   "metadata": {
    "editable": true,
    "slideshow": {
     "slide_type": ""
    },
    "tags": []
   },
   "outputs": [],
   "source": []
  }
 ],
 "metadata": {
  "kernelspec": {
   "display_name": "Python 3",
   "language": "python",
   "name": "python3"
  },
  "language_info": {
   "codemirror_mode": {
    "name": "ipython",
    "version": 3
   },
   "file_extension": ".py",
   "mimetype": "text/x-python",
   "name": "python",
   "nbconvert_exporter": "python",
   "pygments_lexer": "ipython3",
   "version": "3.12.10"
  }
 },
 "nbformat": 4,
 "nbformat_minor": 5
}
